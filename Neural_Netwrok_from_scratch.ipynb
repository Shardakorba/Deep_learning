{
 "cells": [
  {
   "cell_type": "code",
   "execution_count": 108,
   "id": "9a8d8dbc-ea9f-49c9-bc22-a3ad0f650996",
   "metadata": {},
   "outputs": [],
   "source": [
    "from sklearn.datasets import load_digits\n",
    "from sklearn.model_selection import train_test_split\n",
    "import matplotlib.pyplot as plt\n",
    "import numpy as np\n",
    "import seaborn as sns"
   ]
  },
  {
   "cell_type": "code",
   "execution_count": 110,
   "id": "f85c835b-3928-4ac1-9836-d267a8cfd5eb",
   "metadata": {},
   "outputs": [],
   "source": [
    "digits = load_digits()"
   ]
  },
  {
   "cell_type": "code",
   "execution_count": 112,
   "id": "d6571fe0-1851-4cb2-a79e-17d237cdccfe",
   "metadata": {},
   "outputs": [],
   "source": [
    "X=digits['data']"
   ]
  },
  {
   "cell_type": "code",
   "execution_count": 114,
   "id": "1933e55b-6562-4827-a0fb-183f4e2951e3",
   "metadata": {},
   "outputs": [
    {
     "data": {
      "text/plain": [
       "array([ 0.,  0.,  5., 13.,  9.,  1.,  0.,  0.,  0.,  0., 13., 15., 10.,\n",
       "       15.,  5.,  0.,  0.,  3., 15.,  2.,  0., 11.,  8.,  0.,  0.,  4.,\n",
       "       12.,  0.,  0.,  8.,  8.,  0.,  0.,  5.,  8.,  0.,  0.,  9.,  8.,\n",
       "        0.,  0.,  4., 11.,  0.,  1., 12.,  7.,  0.,  0.,  2., 14.,  5.,\n",
       "       10., 12.,  0.,  0.,  0.,  0.,  6., 13., 10.,  0.,  0.,  0.])"
      ]
     },
     "execution_count": 114,
     "metadata": {},
     "output_type": "execute_result"
    }
   ],
   "source": [
    "X[0]"
   ]
  },
  {
   "cell_type": "code",
   "execution_count": 116,
   "id": "e44da7dd-ab1b-4664-92dc-14eb3edeeefc",
   "metadata": {},
   "outputs": [
    {
     "data": {
      "image/png": "[encoded data removed]",
      "text/plain": [
       "<Figure size 800x800 with 2 Axes>"
      ]
     },
     "metadata": {},
     "output_type": "display_data"
    }
   ],
   "source": [
    "plt.figure(figsize=(8, 8))\n",
    "sns.heatmap(np.reshape(X[9],(8,8)), annot=False, cmap='viridis', fmt='.2f', linewidths=.5)\n",
    "plt.show()"
   ]
  },
  {
   "cell_type": "code",
   "execution_count": 117,
   "id": "815e5b89-144f-4502-a1d8-608896db0455",
   "metadata": {},
   "outputs": [
    {
     "data": {
      "text/plain": [
       "(1797, 64)"
      ]
     },
     "execution_count": 117,
     "metadata": {},
     "output_type": "execute_result"
    }
   ],
   "source": [
    "X.shape"
   ]
  },
  {
   "cell_type": "code",
   "execution_count": 118,
   "id": "9190f7eb-96d8-4e76-a05a-a8e6f5d0b9e3",
   "metadata": {},
   "outputs": [],
   "source": [
    "y=digits['target']"
   ]
  },
  {
   "cell_type": "code",
   "execution_count": 122,
   "id": "6903846b-f1ce-411b-ac64-d37ecbf0a0c5",
   "metadata": {},
   "outputs": [
    {
     "data": {
      "text/plain": [
       "(1797,)"
      ]
     },
     "execution_count": 122,
     "metadata": {},
     "output_type": "execute_result"
    }
   ],
   "source": [
    "y.shape"
   ]
  },
  {
   "cell_type": "code",
   "execution_count": 124,
   "id": "fccdf38d-b363-4e27-b9c2-bad88ee2dbb1",
   "metadata": {},
   "outputs": [],
   "source": [
    "y_one_hot=np.array([[0,0,0,0,0,0,0,0,0,0] for i in range(1) for j in range(y.shape[0])])\n",
    "for i in range(len(y)):    \n",
    "        y_one_hot[i][y[i]]=1"
   ]
  },
  {
   "cell_type": "code",
   "execution_count": 126,
   "id": "159b4033-4553-460b-a2a0-1a17849357b9",
   "metadata": {},
   "outputs": [],
   "source": [
    "X_train, X_test, y_label_train, y_label_test = train_test_split(X, y, test_size=0.2,random_state=42)\n",
    "y_one_hot_label_train, y_one_hot_label_test= train_test_split(y_one_hot, test_size=0.2,random_state=42)"
   ]
  },
  {
   "cell_type": "code",
   "execution_count": 128,
   "id": "299fc894-052a-4972-9634-70fa30b4c5fb",
   "metadata": {},
   "outputs": [
    {
     "data": {
      "text/plain": [
       "(1437, 64)"
      ]
     },
     "execution_count": 128,
     "metadata": {},
     "output_type": "execute_result"
    }
   ],
   "source": [
    "X_train.shape"
   ]
  },
  {
   "cell_type": "code",
   "execution_count": 130,
   "id": "4351a791-db7a-453c-840a-861abbf6676b",
   "metadata": {},
   "outputs": [
    {
     "data": {
      "text/plain": [
       "(360, 64)"
      ]
     },
     "execution_count": 130,
     "metadata": {},
     "output_type": "execute_result"
    }
   ],
   "source": [
    "X_test.shape"
   ]
  },
  {
   "cell_type": "code",
   "execution_count": 132,
   "id": "4696eb36-fd76-4533-b840-c6982b621b4d",
   "metadata": {},
   "outputs": [
    {
     "data": {
      "text/plain": [
       "(1437, 10)"
      ]
     },
     "execution_count": 132,
     "metadata": {},
     "output_type": "execute_result"
    }
   ],
   "source": [
    "y_one_hot_label_train.shape"
   ]
  },
  {
   "cell_type": "code",
   "execution_count": 134,
   "id": "c3a66a09-7f18-4fed-a9cf-869e16285847",
   "metadata": {},
   "outputs": [
    {
     "data": {
      "text/plain": [
       "(360, 10)"
      ]
     },
     "execution_count": 134,
     "metadata": {},
     "output_type": "execute_result"
    }
   ],
   "source": [
    "y_one_hot_label_test.shape"
   ]
  },
  {
   "cell_type": "code",
   "execution_count": 136,
   "id": "5169b4e3-cc85-4235-8716-4bcf8dd94d0c",
   "metadata": {},
   "outputs": [],
   "source": [
    "shape = (10, 64)\n",
    "W = np.random.rand(*shape)"
   ]
  },
  {
   "cell_type": "code",
   "execution_count": 138,
   "id": "674549c1-8fc5-4eb9-bc87-880e1471ef6e",
   "metadata": {},
   "outputs": [
    {
     "data": {
      "text/plain": [
       "(10, 64)"
      ]
     },
     "execution_count": 138,
     "metadata": {},
     "output_type": "execute_result"
    }
   ],
   "source": [
    "W.shape"
   ]
  },
  {
   "cell_type": "code",
   "execution_count": 140,
   "id": "02aa3bb5-4c45-4f7a-b5e8-8a8634140449",
   "metadata": {},
   "outputs": [],
   "source": [
    "def sigmoid(array):\n",
    "    return 1/(1+np.exp(-array))"
   ]
  },
  {
   "cell_type": "code",
   "execution_count": 146,
   "id": "97f91c33-bcfb-49c1-bfab-4bdda644062b",
   "metadata": {},
   "outputs": [],
   "source": [
    "def binary_crossentropy(y_true, y_pred):\n",
    "    \"\"\"\n",
    "    Compute binary cross-entropy loss.\n",
    "\n",
    "    Parameters:\n",
    "    y_true (array-like): Ground truth labels (0 or 1).\n",
    "    y_pred (array-like): Predicted probabilities (between 0 and 1).\n",
    "\n",
    "    Returns:\n",
    "    float: Binary cross-entropy loss.\n",
    "    \"\"\"\n",
    "    y_true = np.array(y_true)\n",
    "    y_pred = np.array(y_pred)\n",
    "    \n",
    "    # Clip predictions to prevent log(0)\n",
    "    y_pred = np.clip(y_pred, 1e-15, 1 - 1e-15)\n",
    "    \n",
    "    # Calculate binary cross-entropy\n",
    "    loss = -np.mean(y_true * np.log(y_pred) + (1 - y_true) * np.log(1 - y_pred))\n",
    "    return loss\n"
   ]
  },
  {
   "cell_type": "code",
   "execution_count": 148,
   "id": "80a6776d-dd4a-4f57-91eb-833903b2f472",
   "metadata": {},
   "outputs": [],
   "source": [
    "def model_forward(x):\n",
    "    x=np.reshape(x,(64,1))\n",
    "    z=W@x\n",
    "    y_hat=sigmoid(z)\n",
    "    return y_hat,z"
   ]
  },
  {
   "cell_type": "code",
   "execution_count": 150,
   "id": "cd9dd16c-f2a4-493f-806f-716bcaf396cc",
   "metadata": {},
   "outputs": [],
   "source": [
    "def model_backward(x,y,y_hat,z):\n",
    "    x=np.reshape(x,(64,1))\n",
    "    \n",
    "    dloss_dy_hat=((y_hat-np.reshape(y,(10,1)))/(y_hat*(1-y_hat)+0.0000000001)).T\n",
    "    dy_hat_dz=np.eye(10)*(np.exp(-z)/((1+np.exp(-z))**2))\n",
    "\n",
    "    delta=dloss_dy_hat@dy_hat_dz\n",
    "\n",
    "    dloss_dW=delta.T@np.reshape(x,(64,1)).T\n",
    "    return dloss_dW"
   ]
  },
  {
   "cell_type": "code",
   "execution_count": 152,
   "id": "81969ff7-a7f4-42ff-8947-68a78b3f721d",
   "metadata": {},
   "outputs": [],
   "source": [
    "alpha=0.001\n",
    "num_epochs=100\n",
    "epoch=0\n",
    "while epoch<num_epochs:\n",
    "    for i in range(len(X_train)):\n",
    "        y_hat,z=model_forward(X_train[i])\n",
    "        gradW=model_backward(X_train[i],y_one_hot_label_train[i],y_hat,z)\n",
    "        W=W-alpha*gradW\n",
    "    epoch+=1"
   ]
  },
  {
   "cell_type": "code",
   "execution_count": 153,
   "id": "13b3be0f-66ff-4392-ae25-d87f1e778993",
   "metadata": {},
   "outputs": [],
   "source": [
    "y_hat,z=model_forward(X_test[0])"
   ]
  },
  {
   "cell_type": "code",
   "execution_count": 52,
   "id": "9073f5d3-4e39-4b13-adcf-49af2a9a54eb",
   "metadata": {},
   "outputs": [
    {
     "data": {
      "text/plain": [
       "array([[1.],\n",
       "       [1.],\n",
       "       [1.],\n",
       "       [1.],\n",
       "       [1.],\n",
       "       [1.],\n",
       "       [1.],\n",
       "       [1.],\n",
       "       [1.],\n",
       "       [1.]])"
      ]
     },
     "execution_count": 52,
     "metadata": {},
     "output_type": "execute_result"
    }
   ],
   "source": [
    "y_hat"
   ]
  }
 ],
 "metadata": {
  "kernelspec": {
   "display_name": "Python 3 (ipykernel)",
   "language": "python",
   "name": "python3"
  },
  "language_info": {
   "codemirror_mode": {
    "name": "ipython",
    "version": 3
   },
   "file_extension": ".py",
   "mimetype": "text/x-python",
   "name": "python",
   "nbconvert_exporter": "python",
   "pygments_lexer": "ipython3",
   "version": "3.12.4"
  }
 },
 "nbformat": 4,
 "nbformat_minor": 5
}
