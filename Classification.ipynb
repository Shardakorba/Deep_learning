{
 "cells": [
  {
   "cell_type": "code",
   "execution_count": 3,
   "id": "a5b95f44-cd26-4a58-b976-5f0f26021901",
   "metadata": {},
   "outputs": [
    {
     "ename": "ModuleNotFoundError",
     "evalue": "No module named 'torch'",
     "output_type": "error",
     "traceback": [
      "\u001b[1;31m---------------------------------------------------------------------------\u001b[0m",
      "\u001b[1;31mModuleNotFoundError\u001b[0m                       Traceback (most recent call last)",
      "Cell \u001b[1;32mIn[3], line 7\u001b[0m\n\u001b[0;32m      5\u001b[0m \u001b[38;5;28;01mimport\u001b[39;00m \u001b[38;5;21;01mmatplotlib\u001b[39;00m\u001b[38;5;21;01m.\u001b[39;00m\u001b[38;5;21;01mpyplot\u001b[39;00m \u001b[38;5;28;01mas\u001b[39;00m \u001b[38;5;21;01mplt\u001b[39;00m\n\u001b[0;32m      6\u001b[0m \u001b[38;5;28;01mimport\u001b[39;00m \u001b[38;5;21;01mseaborn\u001b[39;00m \u001b[38;5;28;01mas\u001b[39;00m \u001b[38;5;21;01msns\u001b[39;00m\n\u001b[1;32m----> 7\u001b[0m \u001b[38;5;28;01mimport\u001b[39;00m \u001b[38;5;21;01mtorch\u001b[39;00m\n\u001b[0;32m      8\u001b[0m \u001b[38;5;28;01mfrom\u001b[39;00m \u001b[38;5;21;01mtorch\u001b[39;00m \u001b[38;5;28;01mimport\u001b[39;00m nn\n",
      "\u001b[1;31mModuleNotFoundError\u001b[0m: No module named 'torch'"
     ]
    }
   ],
   "source": [
    "from sklearn.datasets import load_digits\n",
    "from sklearn.model_selection import train_test_split\n",
    "import pandas as pd\n",
    "import numpy as np\n",
    "import matplotlib.pyplot as plt\n",
    "import seaborn as sns\n",
    "import torch\n",
    "from torch import nn"
   ]
  },
  {
   "cell_type": "code",
   "execution_count": 68,
   "id": "e5e9db9c-467f-4d97-99f4-92c6eab89f30",
   "metadata": {},
   "outputs": [],
   "source": [
    "digits = load_digits()"
   ]
  },
  {
   "cell_type": "code",
   "execution_count": 69,
   "id": "114dccdf-f240-4648-9392-f6d274b87e44",
   "metadata": {},
   "outputs": [],
   "source": [
    "X=digits['data']"
   ]
  },
  {
   "cell_type": "code",
   "execution_count": 70,
   "id": "cc87965d-974e-4f8e-b514-666be42dcbb8",
   "metadata": {},
   "outputs": [
    {
     "data": {
      "text/plain": [
       "(1797, 64)"
      ]
     },
     "execution_count": 70,
     "metadata": {},
     "output_type": "execute_result"
    }
   ],
   "source": [
    "X.shape"
   ]
  },
  {
   "cell_type": "code",
   "execution_count": 71,
   "id": "e8899e8e-cf4c-4333-b0f3-d37b6bcec8a9",
   "metadata": {},
   "outputs": [
    {
     "data": {
      "text/plain": [
       "(64,)"
      ]
     },
     "execution_count": 71,
     "metadata": {},
     "output_type": "execute_result"
    }
   ],
   "source": [
    "X[0].shape"
   ]
  },
  {
   "cell_type": "code",
   "execution_count": 72,
   "id": "d4c8fc9b-d5d9-43f8-8313-af69eb57de55",
   "metadata": {},
   "outputs": [
    {
     "data": {
      "image/png": "[encoded data removed]",
      "text/plain": [
       "<Figure size 800x800 with 2 Axes>"
      ]
     },
     "metadata": {},
     "output_type": "display_data"
    }
   ],
   "source": [
    "plt.figure(figsize=(8, 8))\n",
    "sns.heatmap(np.reshape(X[9],(8,8)), annot=False, cmap='viridis', fmt='.2f', linewidths=.5)\n",
    "plt.show()"
   ]
  },
  {
   "cell_type": "code",
   "execution_count": 73,
   "id": "994bc663-0a68-46a4-94d0-96eb3a4f0370",
   "metadata": {},
   "outputs": [],
   "source": [
    "y=digits['target']"
   ]
  },
  {
   "cell_type": "code",
   "execution_count": 74,
   "id": "7c69c658-a688-4736-b055-7a0f75ee8554",
   "metadata": {},
   "outputs": [
    {
     "data": {
      "text/plain": [
       "array([0, 1, 2, 3, 4, 5, 6, 7, 8, 9])"
      ]
     },
     "execution_count": 74,
     "metadata": {},
     "output_type": "execute_result"
    }
   ],
   "source": [
    "y[:10]"
   ]
  },
  {
   "cell_type": "code",
   "execution_count": 75,
   "id": "c1cc3ac6-c38e-460f-8e98-2f19c2c09711",
   "metadata": {},
   "outputs": [
    {
     "data": {
      "text/plain": [
       "(1797, 64)"
      ]
     },
     "execution_count": 75,
     "metadata": {},
     "output_type": "execute_result"
    }
   ],
   "source": [
    "X.shape"
   ]
  },
  {
   "cell_type": "code",
   "execution_count": 76,
   "id": "6b9572a3-b8ce-4862-bf7d-f98a1f0c8e04",
   "metadata": {},
   "outputs": [],
   "source": [
    "y_one_hot=np.array([[0,0,0,0,0,0,0,0,0,0] for i in range(1) for j in range(y.shape[0])])\n",
    "for i in range(len(y)):    \n",
    "        y_one_hot[i][y[i]]=1"
   ]
  },
  {
   "cell_type": "code",
   "execution_count": 77,
   "id": "7fdb7370-8bb0-4453-a1e4-c323a377d365",
   "metadata": {},
   "outputs": [
    {
     "data": {
      "text/plain": [
       "array([0, 0, 1, 0, 0, 0, 0, 0, 0, 0])"
      ]
     },
     "execution_count": 77,
     "metadata": {},
     "output_type": "execute_result"
    }
   ],
   "source": [
    "y_one_hot[50]"
   ]
  },
  {
   "cell_type": "code",
   "execution_count": 78,
   "id": "084e4e33-e022-4524-b495-d6275fec71fc",
   "metadata": {},
   "outputs": [],
   "source": [
    "X = torch.from_numpy(X).type(torch.float)\n",
    "y_label = torch.from_numpy(y).type(torch.float)\n",
    "y_one_hot_label = torch.from_numpy(y_one_hot).type(torch.float)"
   ]
  },
  {
   "cell_type": "code",
   "execution_count": 79,
   "id": "d3e79459-99fa-47ac-8b68-19793545bfee",
   "metadata": {},
   "outputs": [
    {
     "data": {
      "text/plain": [
       "torch.Size([1797, 64])"
      ]
     },
     "execution_count": 79,
     "metadata": {},
     "output_type": "execute_result"
    }
   ],
   "source": [
    "X.shape"
   ]
  },
  {
   "cell_type": "code",
   "execution_count": 82,
   "id": "8ca8472d-b53c-4b20-a79d-8c7170db4d9a",
   "metadata": {},
   "outputs": [
    {
     "data": {
      "text/plain": [
       "torch.Size([1797])"
      ]
     },
     "execution_count": 82,
     "metadata": {},
     "output_type": "execute_result"
    }
   ],
   "source": [
    "y_label.shape"
   ]
  },
  {
   "cell_type": "code",
   "execution_count": 84,
   "id": "147dba75-0106-4185-9945-49d289464e03",
   "metadata": {},
   "outputs": [
    {
     "data": {
      "text/plain": [
       "torch.Size([1797, 10])"
      ]
     },
     "execution_count": 84,
     "metadata": {},
     "output_type": "execute_result"
    }
   ],
   "source": [
    "y_one_hot_label.shape"
   ]
  },
  {
   "cell_type": "code",
   "execution_count": 87,
   "id": "ba62e54e-b047-4e62-b080-f685097c31a4",
   "metadata": {},
   "outputs": [],
   "source": [
    "X_train, X_test, y_label_train, y_label_test = train_test_split(X, y_label, test_size=0.2,random_state=42)\n",
    "y_one_hot_label_train,y_one_hot_label_test = train_test_split(y_one_hot_label, test_size=0.2,random_state=42)"
   ]
  },
  {
   "cell_type": "code",
   "execution_count": 93,
   "id": "ed3f657d-0926-477f-8eec-440d7f7afe08",
   "metadata": {},
   "outputs": [],
   "source": [
    "device_setup = \"cuda\" if torch.cuda.is_available() else \"cpu\""
   ]
  },
  {
   "cell_type": "code",
   "execution_count": 94,
   "id": "c5b160d4-f184-41de-ba1e-2889108a1e49",
   "metadata": {},
   "outputs": [
    {
     "data": {
      "text/plain": [
       "'cpu'"
      ]
     },
     "execution_count": 94,
     "metadata": {},
     "output_type": "execute_result"
    }
   ],
   "source": [
    "device_setup"
   ]
  },
  {
   "cell_type": "code",
   "execution_count": null,
   "id": "f36108ae-1057-4193-b17c-c9beea41699c",
   "metadata": {},
   "outputs": [],
   "source": [
    "\n",
    "    "
   ]
  }
 ],
 "metadata": {
  "kernelspec": {
   "display_name": "Python 3 (ipykernel)",
   "language": "python",
   "name": "python3"
  },
  "language_info": {
   "codemirror_mode": {
    "name": "ipython",
    "version": 3
   },
   "file_extension": ".py",
   "mimetype": "text/x-python",
   "name": "python",
   "nbconvert_exporter": "python",
   "pygments_lexer": "ipython3",
   "version": "3.12.4"
  }
 },
 "nbformat": 4,
 "nbformat_minor": 5
}
